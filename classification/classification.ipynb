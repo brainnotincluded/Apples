{
 "cells": [
  {
   "cell_type": "code",
   "execution_count": null,
   "metadata": {},
   "source": [
    "!python3.10 -m pip install --upgrade torch torchvision ultralytics"
   ],
   "outputs": []
  },
  {
   "cell_type": "code",
   "execution_count": null,
   "metadata": {},
   "source": [
    "!python3.10 -m pip install roboflow"
   ],
   "outputs": []
  },
  {
   "cell_type": "code",
   "execution_count": 1,
   "metadata": {},
   "source": [
    "import ultralytics\n",
    "ultralytics.checks()"
   ],
   "outputs": []
  },
  {
   "cell_type": "code",
   "execution_count": 4,
   "metadata": {},
   "source": [
    "from roboflow import Roboflow\n",
    "rf = Roboflow(api_key=\"...\")\n",
    "project = rf.workspace(\"youray\").project(\"aplles-class\")\n",
    "version = project.version(1)\n",
    "dataset = version.download(\"folder\")"
   ],
   "outputs": []
  },
  {
   "cell_type": "code",
   "execution_count": 1,
   "metadata": {},
   "source": [
    "import torch\n",
    "torch.cuda.set_device(2)"
   ],
   "outputs": []
  },
  {
   "cell_type": "code",
   "execution_count": 2,
   "metadata": {},
   "source": [
    "from ultralytics import YOLO\n",
    "\n",
    "# Загрузка предварительно обученной модели YOLOv8n\n",
    "model = YOLO('yolov8n-cls.pt')  # Убедитесь, что загружаете именно версию для классификации\n",
    "model.to('cuda:2')"
   ],
   "outputs": []
  },
  {
   "cell_type": "code",
   "execution_count": 3,
   "metadata": {},
   "source": [
    "# Обучаем\n",
    "results = model.train(\n",
    "    data='/home/kulibaba/main/Aplles-class-1',\n",
    "    epochs=30,               # Количество эпох обучения\n",
    "    imgsz=760,               # Размер изображений\n",
    "    name='yolov8n_finetune'  # Имя для сохранения модели\n",
    ")"
   ],
   "outputs": []
  },
  {
   "cell_type": "code",
   "execution_count": null,
   "metadata": {},
   "source": [],
   "outputs": []
  }
 ],
 "metadata": {
  "kernelspec": {
   "display_name": "Python 3",
   "language": "python",
   "name": "python3"
  },
  "language_info": {
   "codemirror_mode": {
    "name": "ipython",
    "version": 3
   },
   "file_extension": ".py",
   "mimetype": "text/x-python",
   "name": "python",
   "nbconvert_exporter": "python",
   "pygments_lexer": "ipython3",
   "version": "3.10.14"
  }
 },
 "nbformat": 4,
 "nbformat_minor": 2
}
